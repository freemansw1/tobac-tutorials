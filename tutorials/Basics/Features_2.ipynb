{
 "cells": [
  {
   "cell_type": "markdown",
   "id": "388df18a",
   "metadata": {},
   "source": [
    "# Feature detection part 2\n",
    "\n",
    "In this notebook, we will take a detailed look at tobac's feature detection and examine the remaining parameters."
   ]
  },
  {
   "cell_type": "code",
   "execution_count": 1,
   "id": "7451e92f",
   "metadata": {},
   "outputs": [],
   "source": [
    "import tobac\n",
    "import matplotlib.pyplot as plt\n",
    "import numpy as np\n",
    "import xarray as xr\n",
    "\n",
    "import seaborn as sns\n",
    "sns.set_context('talk')\n",
    "\n",
    "%matplotlib inline"
   ]
  },
  {
   "cell_type": "markdown",
   "id": "e25104dc",
   "metadata": {},
   "source": [
    "## n_erosion_threshold\n",
    "\n",
    "To understand this parameter we have to look at one varibale of the feature-Datasets we did not mention so far: *num*\n",
    "\n",
    "The value of *num* for a specific feature tells us the number of datapoints of the feature exceeding the threshold. *n_erosion_threshold* reduces this number by [eroding](https://en.wikipedia.org/wiki/Erosion_%28morphology%29) the mask of the feature. Supose we are looking at the gaussian data again and we set a treshold of 0.5. The resulting mask of our feature will look like this:"
   ]
  },
  {
   "cell_type": "code",
   "execution_count": 9,
   "id": "7cb13774",
   "metadata": {},
   "outputs": [
    {
     "data": {
      "text/plain": [
       "<matplotlib.image.AxesImage at 0x7f3a453cea10>"
      ]
     },
     "execution_count": 9,
     "metadata": {},
     "output_type": "execute_result"
    },
    {
     "data": {
      "image/png": "[encoded data removed]",
      "text/plain": [
       "<Figure size 576x576 with 1 Axes>"
      ]
     },
     "metadata": {
      "needs_background": "light"
     },
     "output_type": "display_data"
    }
   ],
   "source": [
    "x = np.linspace(-2, 2)\n",
    "y = np.linspace(-2, 2)\n",
    "xx, yy = np.meshgrid(x, y)\n",
    "\n",
    "exp = np.exp(-(xx**2+yy**2))\n",
    "\n",
    "gaussian_data = np.expand_dims(exp, axis=0)\n",
    "threshold = 0.5\n",
    "\n",
    "mask = gaussian_data > threshold\n",
    "mask = mask[0]\n",
    "\n",
    "plt.figure(figsize = (8, 8))\n",
    "plt.imshow(mask)"
   ]
  },
  {
   "cell_type": "markdown",
   "id": "d7e0e85a",
   "metadata": {},
   "source": [
    "The algorithm used by tobac is imported from *skimage.morphology*:"
   ]
  },
  {
   "cell_type": "code",
   "execution_count": 5,
   "id": "ae4d979f",
   "metadata": {},
   "outputs": [],
   "source": [
    "from skimage.morphology import binary_erosion"
   ]
  },
  {
   "cell_type": "markdown",
   "id": "09500e57",
   "metadata": {},
   "source": [
    "Applying this algorithm requires a quadratic matrix. This size of this matrix is provided by the *n_erosion_threshold* parameter. For a quick demonstration we can create the matrix by hand and apply the erosion for different values:"
   ]
  },
  {
   "cell_type": "code",
   "execution_count": 10,
   "id": "43921591",
   "metadata": {
    "scrolled": true
   },
   "outputs": [
    {
     "data": {
      "text/plain": [
       "Text(0.5, 1.0, '$n = 10$')"
      ]
     },
     "execution_count": 10,
     "metadata": {},
     "output_type": "execute_result"
    },
    {
     "data": {
      "image/png": "[encoded data removed]",
      "text/plain": [
       "<Figure size 1008x720 with 3 Axes>"
      ]
     },
     "metadata": {
      "needs_background": "light"
     },
     "output_type": "display_data"
    }
   ],
   "source": [
    "fig, axes = plt.subplots(ncols = 3, figsize = (14, 10))\n",
    "\n",
    "im0 = axes[0].imshow(mask)\n",
    "axes[0].set_title(r'$n= 0$')\n",
    "\n",
    "n_erosion_threshold = 5\n",
    "selem = np.ones((n_erosion_threshold, n_erosion_threshold))\n",
    "mask_er = binary_erosion(mask, selem).astype(np.int64)\n",
    "\n",
    "im1 = axes[1].imshow(mask_er)\n",
    "axes[1].set_title(r'$n = 5$')\n",
    "\n",
    "n_erosion_threshold = 10\n",
    "selem = np.ones((n_erosion_threshold, n_erosion_threshold))\n",
    "mask_er_more = binary_erosion(mask, selem).astype(np.int64)\n",
    "\n",
    "im2 = axes[2].imshow(mask_er_more)\n",
    "axes[2].set_title(r'$n = 10$')"
   ]
  },
  {
   "cell_type": "markdown",
   "id": "dd64d324",
   "metadata": {},
   "source": [
    "This means if by using increasing values of *n_erosion_threshold* we will get lower values of *num*, which will match the number of **True**-values in the masks above:"
   ]
  },
  {
   "cell_type": "code",
   "execution_count": 38,
   "id": "2e7bdf61",
   "metadata": {},
   "outputs": [],
   "source": [
    "%%capture\n",
    "\n",
    "date = np.datetime64('2022-04-01T00:00' )\n",
    "input_data = xr.DataArray(data=gaussian_data, coords={'time':np.expand_dims(date, axis = 0),'y':y, 'x':x})\n",
    "dxy = (input_data['x'][1] - input_data['x'][0])\n",
    "\n",
    "features = tobac.themes.tobac_v1.feature_detection_multithreshold(input_data, dxy, threshold, n_erosion_threshold=0)\n",
    "features_eroded = tobac.themes.tobac_v1.feature_detection_multithreshold(input_data, dxy, threshold, n_erosion_threshold=5)\n",
    "features_eroded_more = tobac.themes.tobac_v1.feature_detection_multithreshold(input_data, dxy, threshold, n_erosion_threshold=10)"
   ]
  },
  {
   "cell_type": "code",
   "execution_count": 39,
   "id": "ddefe3e3",
   "metadata": {},
   "outputs": [
    {
     "data": {
      "text/plain": [
       "332"
      ]
     },
     "execution_count": 39,
     "metadata": {},
     "output_type": "execute_result"
    }
   ],
   "source": [
    "features['num'].data[0]"
   ]
  },
  {
   "cell_type": "code",
   "execution_count": 42,
   "id": "c8c0733d",
   "metadata": {},
   "outputs": [
    {
     "data": {
      "text/plain": [
       "332"
      ]
     },
     "execution_count": 42,
     "metadata": {},
     "output_type": "execute_result"
    }
   ],
   "source": [
    "mask.sum()"
   ]
  },
  {
   "cell_type": "code",
   "execution_count": 40,
   "id": "5909a742",
   "metadata": {},
   "outputs": [
    {
     "data": {
      "text/plain": [
       "188"
      ]
     },
     "execution_count": 40,
     "metadata": {},
     "output_type": "execute_result"
    }
   ],
   "source": [
    "features_eroded['num'].data[0]"
   ]
  },
  {
   "cell_type": "code",
   "execution_count": 43,
   "id": "33683d04",
   "metadata": {},
   "outputs": [
    {
     "data": {
      "text/plain": [
       "188"
      ]
     },
     "execution_count": 43,
     "metadata": {},
     "output_type": "execute_result"
    }
   ],
   "source": [
    "mask_er.sum()"
   ]
  },
  {
   "cell_type": "code",
   "execution_count": 41,
   "id": "2cb7802e",
   "metadata": {},
   "outputs": [
    {
     "data": {
      "text/plain": [
       "57"
      ]
     },
     "execution_count": 41,
     "metadata": {},
     "output_type": "execute_result"
    }
   ],
   "source": [
    "features_eroded_more['num'].data[0]"
   ]
  },
  {
   "cell_type": "code",
   "execution_count": 44,
   "id": "98b07f0f",
   "metadata": {},
   "outputs": [
    {
     "data": {
      "text/plain": [
       "57"
      ]
     },
     "execution_count": 44,
     "metadata": {},
     "output_type": "execute_result"
    }
   ],
   "source": [
    "mask_er_more.sum()"
   ]
  },
  {
   "cell_type": "markdown",
   "id": "a953d755",
   "metadata": {},
   "source": [
    "**Use???**"
   ]
  },
  {
   "cell_type": "markdown",
   "id": "efda10e4",
   "metadata": {},
   "source": [
    "## n_min_threshold\n",
    "\n",
    "With *n_min_threshold* parameter we can exclude smaller features by setting a minimum of datapoints that have to exceed the threshold for one feature. If we again detect the single feature of our gaussian data and check its *num* value, we can see that it contains 332 pixels:"
   ]
  },
  {
   "cell_type": "code",
   "execution_count": 47,
   "id": "1ca6e991",
   "metadata": {},
   "outputs": [],
   "source": [
    "%%capture\n",
    "\n",
    "threshold = 0.5\n",
    "features = tobac.themes.tobac_v1.feature_detection_multithreshold(input_data, dxy, threshold)"
   ]
  },
  {
   "cell_type": "code",
   "execution_count": 48,
   "id": "59607803",
   "metadata": {},
   "outputs": [
    {
     "data": {
      "text/plain": [
       "array([332])"
      ]
     },
     "execution_count": 48,
     "metadata": {},
     "output_type": "execute_result"
    }
   ],
   "source": [
    "features['num'].data"
   ]
  },
  {
   "cell_type": "markdown",
   "id": "68e3b85d",
   "metadata": {},
   "source": [
    "If we now use an *n_min-threshold* above or equal this value, we will detect no features:"
   ]
  },
  {
   "cell_type": "code",
   "execution_count": 49,
   "id": "95284244",
   "metadata": {},
   "outputs": [],
   "source": [
    "features = tobac.themes.tobac_v1.feature_detection_multithreshold(input_data, dxy, threshold, n_min_threshold=332)"
   ]
  },
  {
   "cell_type": "code",
   "execution_count": 50,
   "id": "caeea658",
   "metadata": {},
   "outputs": [
    {
     "name": "stdout",
     "output_type": "stream",
     "text": [
      "None\n"
     ]
    }
   ],
   "source": [
    "print(features)"
   ]
  },
  {
   "cell_type": "markdown",
   "id": "72563272",
   "metadata": {},
   "source": [
    "This can be usefull for feature detection in noisy data."
   ]
  },
  {
   "cell_type": "markdown",
   "id": "7bf8c298",
   "metadata": {},
   "source": [
    "## min_distance\n",
    "\n",
    "With *min_distance* we can set a minimal distance of our features. All features closer than this distance to an allready detected feature will be neclected. The 3 blobs can be used again for illustration.. The data is imported and the features are detected as before:"
   ]
  },
  {
   "cell_type": "code",
   "execution_count": 51,
   "id": "b2a7de25",
   "metadata": {},
   "outputs": [],
   "source": [
    "%%capture\n",
    "\n",
    "data = tobac.testing.make_sample_data_2D_3blobs()\n",
    "\n",
    "thresholds = [9]\n",
    "dxy, dt = tobac.utils.get_spacings(data)\n",
    "features = tobac.themes.tobac_v1.feature_detection_multithreshold(data, dxy, thresholds, min_distance=0)"
   ]
  },
  {
   "cell_type": "markdown",
   "id": "e6fd198e",
   "metadata": {},
   "source": [
    "A quick look at frame 50 tells us the found features and their indices:"
   ]
  },
  {
   "cell_type": "code",
   "execution_count": null,
   "id": "f7db8149",
   "metadata": {},
   "outputs": [],
   "source": [
    "n = 50\n",
    "mask = features['frame'] == n\n",
    "features_frame = features.where(mask).dropna('index').to_dataframe()\n",
    "features_frame.index.values"
   ]
  },
  {
   "cell_type": "markdown",
   "id": "6a24c009",
   "metadata": {},
   "source": [
    "Notice that *to_dataframe()* was used to convert the Dataset to a pandas dataframe, which is required to use the *calculate_distance* function of the analysis module:"
   ]
  },
  {
   "cell_type": "code",
   "execution_count": null,
   "id": "b15da9d2",
   "metadata": {},
   "outputs": [],
   "source": [
    "tobac.analysis.analysis.calculate_distance(features_time.loc[60], features_time.loc[61], method_distance='xy')"
   ]
  },
  {
   "cell_type": "code",
   "execution_count": null,
   "id": "4afc4eb3",
   "metadata": {},
   "outputs": [],
   "source": [
    "tobac.analysis.analysis.calculate_distance(features_time.loc[62], features_time.loc[61], method_distance='xy')"
   ]
  },
  {
   "cell_type": "code",
   "execution_count": null,
   "id": "9a5ff68a",
   "metadata": {},
   "outputs": [],
   "source": [
    "tobac.analysis.analysis.calculate_distance(features_time.loc[62], features_time.loc[60], method_distance='xy')"
   ]
  },
  {
   "cell_type": "markdown",
   "id": "3ee0e593",
   "metadata": {},
   "source": [
    "No we know how far our features are apart. With this knowledge we can set reasonable values for *min_distance*. For example, if we only wanna detect one feature, we can set"
   ]
  },
  {
   "cell_type": "code",
   "execution_count": null,
   "id": "50dd4ad8",
   "metadata": {},
   "outputs": [],
   "source": [
    "min_distance=101608"
   ]
  },
  {
   "cell_type": "markdown",
   "id": "15c4336f",
   "metadata": {},
   "source": [
    "and perform the feature detection as usual:"
   ]
  },
  {
   "cell_type": "code",
   "execution_count": null,
   "id": "ffc101e8",
   "metadata": {},
   "outputs": [],
   "source": [
    "%%capture\n",
    "\n",
    "data = tobac.testing.make_sample_data_2D_3blobs()\n",
    "\n",
    "thresholds = [10]\n",
    "dxy, dt = tobac.utils.get_spacings(data)\n",
    "features = tobac.themes.tobac_v1.feature_detection_multithreshold(data, dxy, thresholds, min_distance = min_distance)\n",
    "\n",
    "n = 50\n",
    "mask = features['frame'] == n"
   ]
  },
  {
   "cell_type": "markdown",
   "id": "3e0d7a87",
   "metadata": {},
   "source": [
    "Plotting the result shows us that we have only detected feature 1, like we expected."
   ]
  },
  {
   "cell_type": "code",
   "execution_count": null,
   "id": "1d1d0131",
   "metadata": {},
   "outputs": [],
   "source": [
    "fig, ax1 = plt.subplots(ncols = 1, figsize = (10, 10))\n",
    "ax1.imshow(data.data[50], cmap = 'Greys')\n",
    "\n",
    "im1 = ax1.scatter(features.where(mask)['hdim_2'], features.where(mask)['hdim_1'], color = 'red')"
   ]
  },
  {
   "cell_type": "markdown",
   "id": "0bf4f5cb",
   "metadata": {},
   "source": [
    "## wavelength_filtering"
   ]
  },
  {
   "cell_type": "markdown",
   "id": "7d901656",
   "metadata": {},
   "source": [
    "| **Parameter** | done |\n",
    "| threshold     | yes  |\n",
    "    min_num=0\n",
    "    target=\"maximum\"\n",
    "    position_threshold=\"center\",\n",
    "    sigma_threshold=0.5\n",
    "    n_erosion_threshold=0\n",
    "    n_min_threshold=0\n",
    "    min_distance=0\n",
    "    feature_number_start=1\n",
    "    wavelength_filtering=None"
   ]
  },
  {
   "cell_type": "code",
   "execution_count": null,
   "id": "1889753b",
   "metadata": {},
   "outputs": [],
   "source": [
    "axes"
   ]
  },
  {
   "cell_type": "code",
   "execution_count": null,
   "id": "2125e6e9",
   "metadata": {},
   "outputs": [],
   "source": []
  }
 ],
 "metadata": {
  "kernelspec": {
   "display_name": "Python 3 (ipykernel)",
   "language": "python",
   "name": "python3"
  },
  "language_info": {
   "codemirror_mode": {
    "name": "ipython",
    "version": 3
   },
   "file_extension": ".py",
   "mimetype": "text/x-python",
   "name": "python",
   "nbconvert_exporter": "python",
   "pygments_lexer": "ipython3",
   "version": "3.7.12"
  }
 },
 "nbformat": 4,
 "nbformat_minor": 5
}
