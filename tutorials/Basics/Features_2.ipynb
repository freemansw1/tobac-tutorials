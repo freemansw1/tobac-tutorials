{
 "cells": [
  {
   "cell_type": "markdown",
   "id": "388df18a",
   "metadata": {},
   "source": [
    "# Feature detection part 2\n",
    "\n",
    "In this notebook we are going to have a detailed look at the feature detection of tobac and explore its remaining parameters."
   ]
  },
  {
   "cell_type": "code",
   "execution_count": 1,
   "id": "7451e92f",
   "metadata": {},
   "outputs": [],
   "source": [
    "import tobac\n",
    "import matplotlib.pyplot as plt\n",
    "import numpy as np\n",
    "import xarray as xr\n",
    "\n",
    "%matplotlib inline"
   ]
  },
  {
   "cell_type": "markdown",
   "id": "e25104dc",
   "metadata": {},
   "source": [
    "## n_erosion_threshold\n",
    "\n",
    "To understand this parameter we have to look at one varibale of the feature-Datasets we did not mention so far: *num*\n",
    "\n",
    "The value of *num* for a specific feature tells us the number of datapoints of the feature exceeding the threshold. *n_erosion_threshold* reduces this number by [eroding](https://en.wikipedia.org/wiki/Erosion_%28morphology%29) the mask of the feature. Supose we are looking at the gaussian data again and we set a treshold of 0.5. The resulting mask of our feature will look like this:"
   ]
  },
  {
   "cell_type": "code",
   "execution_count": 346,
   "id": "7cb13774",
   "metadata": {},
   "outputs": [
    {
     "data": {
      "text/plain": [
       "<matplotlib.image.AxesImage at 0x7ff40c4ab710>"
      ]
     },
     "execution_count": 346,
     "metadata": {},
     "output_type": "execute_result"
    },
    {
     "data": {
      "image/png": "[encoded data removed]",
      "text/plain": [
       "<Figure size 432x288 with 1 Axes>"
      ]
     },
     "metadata": {
      "needs_background": "light"
     },
     "output_type": "display_data"
    }
   ],
   "source": [
    "exp = np.exp(-(xx**2+yy**2))\n",
    "\n",
    "gaussian_data = np.expand_dims(exp, axis=0)\n",
    "threshold = 0.5\n",
    "\n",
    "mask = gaussian_data > threshold\n",
    "mask = mask[0]\n",
    "\n",
    "plt.imshow(mask)"
   ]
  },
  {
   "cell_type": "markdown",
   "id": "d7e0e85a",
   "metadata": {},
   "source": [
    "The algorithm used by tobac is imported from *skimage.morphology*:"
   ]
  },
  {
   "cell_type": "code",
   "execution_count": null,
   "id": "ae4d979f",
   "metadata": {},
   "outputs": [],
   "source": [
    "from skimage.morphology import binary_erosion"
   ]
  },
  {
   "cell_type": "markdown",
   "id": "09500e57",
   "metadata": {},
   "source": [
    "Applying this algorithm requires a quadratic matrix. This size of this matrix is provided by the *n_erosion_threshold* parameter. For a quick demonstration we can create the matrix by hand and apply the erosion for different values:"
   ]
  },
  {
   "cell_type": "code",
   "execution_count": 350,
   "id": "43921591",
   "metadata": {},
   "outputs": [
    {
     "data": {
      "text/plain": [
       "Text(0.5, 1.0, '$n = 10$')"
      ]
     },
     "execution_count": 350,
     "metadata": {},
     "output_type": "execute_result"
    },
    {
     "data": {
      "image/png": "[encoded data removed]",
      "text/plain": [
       "<Figure size 1008x720 with 3 Axes>"
      ]
     },
     "metadata": {
      "needs_background": "light"
     },
     "output_type": "display_data"
    }
   ],
   "source": [
    "fig, axes = plt.subplots(ncols = 3, figsize = (14, 10))\n",
    "\n",
    "im0 = axes[0].imshow(mask)\n",
    "axes[0].set_title(r'$n= 0$')\n",
    "\n",
    "n_erosion_threshold = 5\n",
    "selem = np.ones((n_erosion_threshold, n_erosion_threshold))\n",
    "mask_er = binary_erosion(mask, selem).astype(np.int64)\n",
    "\n",
    "im1 = axes[1].imshow(mask_er)\n",
    "axes[1].set_title(r'$n = 5$')\n",
    "\n",
    "n_erosion_threshold = 10\n",
    "selem = np.ones((n_erosion_threshold, n_erosion_threshold))\n",
    "mask_er_more = binary_erosion(mask, selem).astype(np.int64)\n",
    "\n",
    "im2 = axes[2].imshow(mask_er_more)\n",
    "axes[2].set_title(r'$n = 10$')"
   ]
  },
  {
   "cell_type": "code",
   "execution_count": 27,
   "id": "2e7bdf61",
   "metadata": {},
   "outputs": [],
   "source": [
    "%%capture\n",
    "threshold = 0.5\n",
    "features = tobac.themes.tobac_v1.feature_detection_multithreshold(input_data, dxy, threshold, n_erosion_threshold=0)"
   ]
  },
  {
   "cell_type": "code",
   "execution_count": 28,
   "id": "d8a7423d",
   "metadata": {},
   "outputs": [
    {
     "data": {
      "text/plain": [
       "332"
      ]
     },
     "execution_count": 28,
     "metadata": {},
     "output_type": "execute_result"
    }
   ],
   "source": [
    "features['num'].data[0]"
   ]
  },
  {
   "cell_type": "code",
   "execution_count": 29,
   "id": "5ae188c1",
   "metadata": {},
   "outputs": [
    {
     "data": {
      "text/plain": [
       "332"
      ]
     },
     "execution_count": 29,
     "metadata": {},
     "output_type": "execute_result"
    }
   ],
   "source": [
    "mask = data_sharp > threshold\n",
    "mask.sum()"
   ]
  },
  {
   "cell_type": "code",
   "execution_count": 30,
   "id": "5909a742",
   "metadata": {},
   "outputs": [
    {
     "name": "stdout",
     "output_type": "stream",
     "text": [
      "   frame  idx  hdim_1  hdim_2  num  threshold_value  feature  \\\n",
      "0      0    1    25.0    25.0  293              0.5        1   \n",
      "\n",
      "                  time              timestr         y         x  \n",
      "0  2022-04-01 00:00:00  2022-04-01 00:00:00  0.040816  0.040816  \n",
      "['time', 'y', 'x']\n"
     ]
    },
    {
     "data": {
      "text/html": [
       "<div><svg style=\"position: absolute; width: 0; height: 0; overflow: hidden\">\n",
       "<defs>\n",
       "<symbol id=\"icon-database\" viewBox=\"0 0 32 32\">\n",
       "<path d=\"M16 0c-8.837 0-16 2.239-16 5v4c0 2.761 7.163 5 16 5s16-2.239 16-5v-4c0-2.761-7.163-5-16-5z\"></path>\n",
       "<path d=\"M16 17c-8.837 0-16-2.239-16-5v6c0 2.761 7.163 5 16 5s16-2.239 16-5v-6c0 2.761-7.163 5-16 5z\"></path>\n",
       "<path d=\"M16 26c-8.837 0-16-2.239-16-5v6c0 2.761 7.163 5 16 5s16-2.239 16-5v-6c0 2.761-7.163 5-16 5z\"></path>\n",
       "</symbol>\n",
       "<symbol id=\"icon-file-text2\" viewBox=\"0 0 32 32\">\n",
       "<path d=\"M28.681 7.159c-0.694-0.947-1.662-2.053-2.724-3.116s-2.169-2.030-3.116-2.724c-1.612-1.182-2.393-1.319-2.841-1.319h-15.5c-1.378 0-2.5 1.121-2.5 2.5v27c0 1.378 1.122 2.5 2.5 2.5h23c1.378 0 2.5-1.122 2.5-2.5v-19.5c0-0.448-0.137-1.23-1.319-2.841zM24.543 5.457c0.959 0.959 1.712 1.825 2.268 2.543h-4.811v-4.811c0.718 0.556 1.584 1.309 2.543 2.268zM28 29.5c0 0.271-0.229 0.5-0.5 0.5h-23c-0.271 0-0.5-0.229-0.5-0.5v-27c0-0.271 0.229-0.5 0.5-0.5 0 0 15.499-0 15.5 0v7c0 0.552 0.448 1 1 1h7v19.5z\"></path>\n",
       "<path d=\"M23 26h-14c-0.552 0-1-0.448-1-1s0.448-1 1-1h14c0.552 0 1 0.448 1 1s-0.448 1-1 1z\"></path>\n",
       "<path d=\"M23 22h-14c-0.552 0-1-0.448-1-1s0.448-1 1-1h14c0.552 0 1 0.448 1 1s-0.448 1-1 1z\"></path>\n",
       "<path d=\"M23 18h-14c-0.552 0-1-0.448-1-1s0.448-1 1-1h14c0.552 0 1 0.448 1 1s-0.448 1-1 1z\"></path>\n",
       "</symbol>\n",
       "</defs>\n",
       "</svg>\n",
       "<style>/* CSS stylesheet for displaying xarray objects in jupyterlab.\n",
       " *\n",
       " */\n",
       "\n",
       ":root {\n",
       "  --xr-font-color0: var(--jp-content-font-color0, rgba(0, 0, 0, 1));\n",
       "  --xr-font-color2: var(--jp-content-font-color2, rgba(0, 0, 0, 0.54));\n",
       "  --xr-font-color3: var(--jp-content-font-color3, rgba(0, 0, 0, 0.38));\n",
       "  --xr-border-color: var(--jp-border-color2, #e0e0e0);\n",
       "  --xr-disabled-color: var(--jp-layout-color3, #bdbdbd);\n",
       "  --xr-background-color: var(--jp-layout-color0, white);\n",
       "  --xr-background-color-row-even: var(--jp-layout-color1, white);\n",
       "  --xr-background-color-row-odd: var(--jp-layout-color2, #eeeeee);\n",
       "}\n",
       "\n",
       "html[theme=dark],\n",
       "body.vscode-dark {\n",
       "  --xr-font-color0: rgba(255, 255, 255, 1);\n",
       "  --xr-font-color2: rgba(255, 255, 255, 0.54);\n",
       "  --xr-font-color3: rgba(255, 255, 255, 0.38);\n",
       "  --xr-border-color: #1F1F1F;\n",
       "  --xr-disabled-color: #515151;\n",
       "  --xr-background-color: #111111;\n",
       "  --xr-background-color-row-even: #111111;\n",
       "  --xr-background-color-row-odd: #313131;\n",
       "}\n",
       "\n",
       ".xr-wrap {\n",
       "  display: block !important;\n",
       "  min-width: 300px;\n",
       "  max-width: 700px;\n",
       "}\n",
       "\n",
       ".xr-text-repr-fallback {\n",
       "  /* fallback to plain text repr when CSS is not injected (untrusted notebook) */\n",
       "  display: none;\n",
       "}\n",
       "\n",
       ".xr-header {\n",
       "  padding-top: 6px;\n",
       "  padding-bottom: 6px;\n",
       "  margin-bottom: 4px;\n",
       "  border-bottom: solid 1px var(--xr-border-color);\n",
       "}\n",
       "\n",
       ".xr-header > div,\n",
       ".xr-header > ul {\n",
       "  display: inline;\n",
       "  margin-top: 0;\n",
       "  margin-bottom: 0;\n",
       "}\n",
       "\n",
       ".xr-obj-type,\n",
       ".xr-array-name {\n",
       "  margin-left: 2px;\n",
       "  margin-right: 10px;\n",
       "}\n",
       "\n",
       ".xr-obj-type {\n",
       "  color: var(--xr-font-color2);\n",
       "}\n",
       "\n",
       ".xr-sections {\n",
       "  padding-left: 0 !important;\n",
       "  display: grid;\n",
       "  grid-template-columns: 150px auto auto 1fr 20px 20px;\n",
       "}\n",
       "\n",
       ".xr-section-item {\n",
       "  display: contents;\n",
       "}\n",
       "\n",
       ".xr-section-item input {\n",
       "  display: none;\n",
       "}\n",
       "\n",
       ".xr-section-item input + label {\n",
       "  color: var(--xr-disabled-color);\n",
       "}\n",
       "\n",
       ".xr-section-item input:enabled + label {\n",
       "  cursor: pointer;\n",
       "  color: var(--xr-font-color2);\n",
       "}\n",
       "\n",
       ".xr-section-item input:enabled + label:hover {\n",
       "  color: var(--xr-font-color0);\n",
       "}\n",
       "\n",
       ".xr-section-summary {\n",
       "  grid-column: 1;\n",
       "  color: var(--xr-font-color2);\n",
       "  font-weight: 500;\n",
       "}\n",
       "\n",
       ".xr-section-summary > span {\n",
       "  display: inline-block;\n",
       "  padding-left: 0.5em;\n",
       "}\n",
       "\n",
       ".xr-section-summary-in:disabled + label {\n",
       "  color: var(--xr-font-color2);\n",
       "}\n",
       "\n",
       ".xr-section-summary-in + label:before {\n",
       "  display: inline-block;\n",
       "  content: '►';\n",
       "  font-size: 11px;\n",
       "  width: 15px;\n",
       "  text-align: center;\n",
       "}\n",
       "\n",
       ".xr-section-summary-in:disabled + label:before {\n",
       "  color: var(--xr-disabled-color);\n",
       "}\n",
       "\n",
       ".xr-section-summary-in:checked + label:before {\n",
       "  content: '▼';\n",
       "}\n",
       "\n",
       ".xr-section-summary-in:checked + label > span {\n",
       "  display: none;\n",
       "}\n",
       "\n",
       ".xr-section-summary,\n",
       ".xr-section-inline-details {\n",
       "  padding-top: 4px;\n",
       "  padding-bottom: 4px;\n",
       "}\n",
       "\n",
       ".xr-section-inline-details {\n",
       "  grid-column: 2 / -1;\n",
       "}\n",
       "\n",
       ".xr-section-details {\n",
       "  display: none;\n",
       "  grid-column: 1 / -1;\n",
       "  margin-bottom: 5px;\n",
       "}\n",
       "\n",
       ".xr-section-summary-in:checked ~ .xr-section-details {\n",
       "  display: contents;\n",
       "}\n",
       "\n",
       ".xr-array-wrap {\n",
       "  grid-column: 1 / -1;\n",
       "  display: grid;\n",
       "  grid-template-columns: 20px auto;\n",
       "}\n",
       "\n",
       ".xr-array-wrap > label {\n",
       "  grid-column: 1;\n",
       "  vertical-align: top;\n",
       "}\n",
       "\n",
       ".xr-preview {\n",
       "  color: var(--xr-font-color3);\n",
       "}\n",
       "\n",
       ".xr-array-preview,\n",
       ".xr-array-data {\n",
       "  padding: 0 5px !important;\n",
       "  grid-column: 2;\n",
       "}\n",
       "\n",
       ".xr-array-data,\n",
       ".xr-array-in:checked ~ .xr-array-preview {\n",
       "  display: none;\n",
       "}\n",
       "\n",
       ".xr-array-in:checked ~ .xr-array-data,\n",
       ".xr-array-preview {\n",
       "  display: inline-block;\n",
       "}\n",
       "\n",
       ".xr-dim-list {\n",
       "  display: inline-block !important;\n",
       "  list-style: none;\n",
       "  padding: 0 !important;\n",
       "  margin: 0;\n",
       "}\n",
       "\n",
       ".xr-dim-list li {\n",
       "  display: inline-block;\n",
       "  padding: 0;\n",
       "  margin: 0;\n",
       "}\n",
       "\n",
       ".xr-dim-list:before {\n",
       "  content: '(';\n",
       "}\n",
       "\n",
       ".xr-dim-list:after {\n",
       "  content: ')';\n",
       "}\n",
       "\n",
       ".xr-dim-list li:not(:last-child):after {\n",
       "  content: ',';\n",
       "  padding-right: 5px;\n",
       "}\n",
       "\n",
       ".xr-has-index {\n",
       "  font-weight: bold;\n",
       "}\n",
       "\n",
       ".xr-var-list,\n",
       ".xr-var-item {\n",
       "  display: contents;\n",
       "}\n",
       "\n",
       ".xr-var-item > div,\n",
       ".xr-var-item label,\n",
       ".xr-var-item > .xr-var-name span {\n",
       "  background-color: var(--xr-background-color-row-even);\n",
       "  margin-bottom: 0;\n",
       "}\n",
       "\n",
       ".xr-var-item > .xr-var-name:hover span {\n",
       "  padding-right: 5px;\n",
       "}\n",
       "\n",
       ".xr-var-list > li:nth-child(odd) > div,\n",
       ".xr-var-list > li:nth-child(odd) > label,\n",
       ".xr-var-list > li:nth-child(odd) > .xr-var-name span {\n",
       "  background-color: var(--xr-background-color-row-odd);\n",
       "}\n",
       "\n",
       ".xr-var-name {\n",
       "  grid-column: 1;\n",
       "}\n",
       "\n",
       ".xr-var-dims {\n",
       "  grid-column: 2;\n",
       "}\n",
       "\n",
       ".xr-var-dtype {\n",
       "  grid-column: 3;\n",
       "  text-align: right;\n",
       "  color: var(--xr-font-color2);\n",
       "}\n",
       "\n",
       ".xr-var-preview {\n",
       "  grid-column: 4;\n",
       "}\n",
       "\n",
       ".xr-var-name,\n",
       ".xr-var-dims,\n",
       ".xr-var-dtype,\n",
       ".xr-preview,\n",
       ".xr-attrs dt {\n",
       "  white-space: nowrap;\n",
       "  overflow: hidden;\n",
       "  text-overflow: ellipsis;\n",
       "  padding-right: 10px;\n",
       "}\n",
       "\n",
       ".xr-var-name:hover,\n",
       ".xr-var-dims:hover,\n",
       ".xr-var-dtype:hover,\n",
       ".xr-attrs dt:hover {\n",
       "  overflow: visible;\n",
       "  width: auto;\n",
       "  z-index: 1;\n",
       "}\n",
       "\n",
       ".xr-var-attrs,\n",
       ".xr-var-data {\n",
       "  display: none;\n",
       "  background-color: var(--xr-background-color) !important;\n",
       "  padding-bottom: 5px !important;\n",
       "}\n",
       "\n",
       ".xr-var-attrs-in:checked ~ .xr-var-attrs,\n",
       ".xr-var-data-in:checked ~ .xr-var-data {\n",
       "  display: block;\n",
       "}\n",
       "\n",
       ".xr-var-data > table {\n",
       "  float: right;\n",
       "}\n",
       "\n",
       ".xr-var-name span,\n",
       ".xr-var-data,\n",
       ".xr-attrs {\n",
       "  padding-left: 25px !important;\n",
       "}\n",
       "\n",
       ".xr-attrs,\n",
       ".xr-var-attrs,\n",
       ".xr-var-data {\n",
       "  grid-column: 1 / -1;\n",
       "}\n",
       "\n",
       "dl.xr-attrs {\n",
       "  padding: 0;\n",
       "  margin: 0;\n",
       "  display: grid;\n",
       "  grid-template-columns: 125px auto;\n",
       "}\n",
       "\n",
       ".xr-attrs dt,\n",
       ".xr-attrs dd {\n",
       "  padding: 0;\n",
       "  margin: 0;\n",
       "  float: left;\n",
       "  padding-right: 10px;\n",
       "  width: auto;\n",
       "}\n",
       "\n",
       ".xr-attrs dt {\n",
       "  font-weight: normal;\n",
       "  grid-column: 1;\n",
       "}\n",
       "\n",
       ".xr-attrs dt:hover span {\n",
       "  display: inline-block;\n",
       "  background: var(--xr-background-color);\n",
       "  padding-right: 10px;\n",
       "}\n",
       "\n",
       ".xr-attrs dd {\n",
       "  grid-column: 2;\n",
       "  white-space: pre-wrap;\n",
       "  word-break: break-all;\n",
       "}\n",
       "\n",
       ".xr-icon-database,\n",
       ".xr-icon-file-text2 {\n",
       "  display: inline-block;\n",
       "  vertical-align: middle;\n",
       "  width: 1em;\n",
       "  height: 1.5em !important;\n",
       "  stroke-width: 0;\n",
       "  stroke: currentColor;\n",
       "  fill: currentColor;\n",
       "}\n",
       "</style><pre class='xr-text-repr-fallback'>&lt;xarray.Dataset&gt;\n",
       "Dimensions:          (index: 1)\n",
       "Coordinates:\n",
       "  * index            (index) int64 0\n",
       "Data variables:\n",
       "    frame            (index) int64 0\n",
       "    idx              (index) int64 1\n",
       "    hdim_1           (index) float64 25.0\n",
       "    hdim_2           (index) float64 25.0\n",
       "    num              (index) int64 293\n",
       "    threshold_value  (index) float64 0.5\n",
       "    feature          (index) int64 1\n",
       "    time             (index) object 2022-04-01 00:00:00\n",
       "    timestr          (index) object &#x27;2022-04-01 00:00:00&#x27;\n",
       "    y                (index) float64 0.04082\n",
       "    x                (index) float64 0.04082</pre><div class='xr-wrap' style='display:none'><div class='xr-header'><div class='xr-obj-type'>xarray.Dataset</div></div><ul class='xr-sections'><li class='xr-section-item'><input id='section-a6ea9eda-62a0-4fff-bf20-d5134bec2242' class='xr-section-summary-in' type='checkbox' disabled ><label for='section-a6ea9eda-62a0-4fff-bf20-d5134bec2242' class='xr-section-summary'  title='Expand/collapse section'>Dimensions:</label><div class='xr-section-inline-details'><ul class='xr-dim-list'><li><span class='xr-has-index'>index</span>: 1</li></ul></div><div class='xr-section-details'></div></li><li class='xr-section-item'><input id='section-36a79b5e-4aac-4097-bb2a-b168708fe8d2' class='xr-section-summary-in' type='checkbox'  checked><label for='section-36a79b5e-4aac-4097-bb2a-b168708fe8d2' class='xr-section-summary' >Coordinates: <span>(1)</span></label><div class='xr-section-inline-details'></div><div class='xr-section-details'><ul class='xr-var-list'><li class='xr-var-item'><div class='xr-var-name'><span class='xr-has-index'>index</span></div><div class='xr-var-dims'>(index)</div><div class='xr-var-dtype'>int64</div><div class='xr-var-preview xr-preview'>0</div><input id='attrs-8c16b2be-7252-48e4-8452-fd7b8d136a51' class='xr-var-attrs-in' type='checkbox' disabled><label for='attrs-8c16b2be-7252-48e4-8452-fd7b8d136a51' title='Show/Hide attributes'><svg class='icon xr-icon-file-text2'><use xlink:href='#icon-file-text2'></use></svg></label><input id='data-f7112a49-8496-48e5-8dd3-8f05ecc41da7' class='xr-var-data-in' type='checkbox'><label for='data-f7112a49-8496-48e5-8dd3-8f05ecc41da7' title='Show/Hide data repr'><svg class='icon xr-icon-database'><use xlink:href='#icon-database'></use></svg></label><div class='xr-var-attrs'><dl class='xr-attrs'></dl></div><div class='xr-var-data'><pre>array([0])</pre></div></li></ul></div></li><li class='xr-section-item'><input id='section-9cc94047-8b5c-48c9-ae1f-b1b56c0bea70' class='xr-section-summary-in' type='checkbox'  checked><label for='section-9cc94047-8b5c-48c9-ae1f-b1b56c0bea70' class='xr-section-summary' >Data variables: <span>(11)</span></label><div class='xr-section-inline-details'></div><div class='xr-section-details'><ul class='xr-var-list'><li class='xr-var-item'><div class='xr-var-name'><span>frame</span></div><div class='xr-var-dims'>(index)</div><div class='xr-var-dtype'>int64</div><div class='xr-var-preview xr-preview'>0</div><input id='attrs-450ef3f8-1c65-4526-91ea-e09976ba1ab8' class='xr-var-attrs-in' type='checkbox' disabled><label for='attrs-450ef3f8-1c65-4526-91ea-e09976ba1ab8' title='Show/Hide attributes'><svg class='icon xr-icon-file-text2'><use xlink:href='#icon-file-text2'></use></svg></label><input id='data-3210eb0b-cc5e-4244-a5b6-a6cf35c702c2' class='xr-var-data-in' type='checkbox'><label for='data-3210eb0b-cc5e-4244-a5b6-a6cf35c702c2' title='Show/Hide data repr'><svg class='icon xr-icon-database'><use xlink:href='#icon-database'></use></svg></label><div class='xr-var-attrs'><dl class='xr-attrs'></dl></div><div class='xr-var-data'><pre>array([0])</pre></div></li><li class='xr-var-item'><div class='xr-var-name'><span>idx</span></div><div class='xr-var-dims'>(index)</div><div class='xr-var-dtype'>int64</div><div class='xr-var-preview xr-preview'>1</div><input id='attrs-8860f8da-4174-4bcf-9dad-66a00ab085f9' class='xr-var-attrs-in' type='checkbox' disabled><label for='attrs-8860f8da-4174-4bcf-9dad-66a00ab085f9' title='Show/Hide attributes'><svg class='icon xr-icon-file-text2'><use xlink:href='#icon-file-text2'></use></svg></label><input id='data-3e9d7ec2-86f6-4267-bf3d-6e73c5c87959' class='xr-var-data-in' type='checkbox'><label for='data-3e9d7ec2-86f6-4267-bf3d-6e73c5c87959' title='Show/Hide data repr'><svg class='icon xr-icon-database'><use xlink:href='#icon-database'></use></svg></label><div class='xr-var-attrs'><dl class='xr-attrs'></dl></div><div class='xr-var-data'><pre>array([1])</pre></div></li><li class='xr-var-item'><div class='xr-var-name'><span>hdim_1</span></div><div class='xr-var-dims'>(index)</div><div class='xr-var-dtype'>float64</div><div class='xr-var-preview xr-preview'>25.0</div><input id='attrs-026599db-3be4-4555-8fcf-7411e0910914' class='xr-var-attrs-in' type='checkbox' disabled><label for='attrs-026599db-3be4-4555-8fcf-7411e0910914' title='Show/Hide attributes'><svg class='icon xr-icon-file-text2'><use xlink:href='#icon-file-text2'></use></svg></label><input id='data-409913ca-2068-4f51-a18b-f07cbe58c5b5' class='xr-var-data-in' type='checkbox'><label for='data-409913ca-2068-4f51-a18b-f07cbe58c5b5' title='Show/Hide data repr'><svg class='icon xr-icon-database'><use xlink:href='#icon-database'></use></svg></label><div class='xr-var-attrs'><dl class='xr-attrs'></dl></div><div class='xr-var-data'><pre>array([25.])</pre></div></li><li class='xr-var-item'><div class='xr-var-name'><span>hdim_2</span></div><div class='xr-var-dims'>(index)</div><div class='xr-var-dtype'>float64</div><div class='xr-var-preview xr-preview'>25.0</div><input id='attrs-5195f840-dc30-422f-8a9f-943a577ba60c' class='xr-var-attrs-in' type='checkbox' disabled><label for='attrs-5195f840-dc30-422f-8a9f-943a577ba60c' title='Show/Hide attributes'><svg class='icon xr-icon-file-text2'><use xlink:href='#icon-file-text2'></use></svg></label><input id='data-3505690c-cb32-4df0-924d-18c253b39d7d' class='xr-var-data-in' type='checkbox'><label for='data-3505690c-cb32-4df0-924d-18c253b39d7d' title='Show/Hide data repr'><svg class='icon xr-icon-database'><use xlink:href='#icon-database'></use></svg></label><div class='xr-var-attrs'><dl class='xr-attrs'></dl></div><div class='xr-var-data'><pre>array([25.])</pre></div></li><li class='xr-var-item'><div class='xr-var-name'><span>num</span></div><div class='xr-var-dims'>(index)</div><div class='xr-var-dtype'>int64</div><div class='xr-var-preview xr-preview'>293</div><input id='attrs-e6d7910f-9650-4c6d-aefb-d996be4293ac' class='xr-var-attrs-in' type='checkbox' disabled><label for='attrs-e6d7910f-9650-4c6d-aefb-d996be4293ac' title='Show/Hide attributes'><svg class='icon xr-icon-file-text2'><use xlink:href='#icon-file-text2'></use></svg></label><input id='data-ac7ce52a-67d7-49f6-83ae-2f51cec54395' class='xr-var-data-in' type='checkbox'><label for='data-ac7ce52a-67d7-49f6-83ae-2f51cec54395' title='Show/Hide data repr'><svg class='icon xr-icon-database'><use xlink:href='#icon-database'></use></svg></label><div class='xr-var-attrs'><dl class='xr-attrs'></dl></div><div class='xr-var-data'><pre>array([293])</pre></div></li><li class='xr-var-item'><div class='xr-var-name'><span>threshold_value</span></div><div class='xr-var-dims'>(index)</div><div class='xr-var-dtype'>float64</div><div class='xr-var-preview xr-preview'>0.5</div><input id='attrs-40dcd0ca-ad98-4355-9b82-ff4ef79597e1' class='xr-var-attrs-in' type='checkbox' disabled><label for='attrs-40dcd0ca-ad98-4355-9b82-ff4ef79597e1' title='Show/Hide attributes'><svg class='icon xr-icon-file-text2'><use xlink:href='#icon-file-text2'></use></svg></label><input id='data-bb3d5350-61fa-4c7d-8862-c9289c07dc8a' class='xr-var-data-in' type='checkbox'><label for='data-bb3d5350-61fa-4c7d-8862-c9289c07dc8a' title='Show/Hide data repr'><svg class='icon xr-icon-database'><use xlink:href='#icon-database'></use></svg></label><div class='xr-var-attrs'><dl class='xr-attrs'></dl></div><div class='xr-var-data'><pre>array([0.5])</pre></div></li><li class='xr-var-item'><div class='xr-var-name'><span>feature</span></div><div class='xr-var-dims'>(index)</div><div class='xr-var-dtype'>int64</div><div class='xr-var-preview xr-preview'>1</div><input id='attrs-0e0eb660-d949-44f3-b025-8c4907dd7763' class='xr-var-attrs-in' type='checkbox' disabled><label for='attrs-0e0eb660-d949-44f3-b025-8c4907dd7763' title='Show/Hide attributes'><svg class='icon xr-icon-file-text2'><use xlink:href='#icon-file-text2'></use></svg></label><input id='data-0c233869-4059-44cc-af12-0ac6d4e2066f' class='xr-var-data-in' type='checkbox'><label for='data-0c233869-4059-44cc-af12-0ac6d4e2066f' title='Show/Hide data repr'><svg class='icon xr-icon-database'><use xlink:href='#icon-database'></use></svg></label><div class='xr-var-attrs'><dl class='xr-attrs'></dl></div><div class='xr-var-data'><pre>array([1])</pre></div></li><li class='xr-var-item'><div class='xr-var-name'><span>time</span></div><div class='xr-var-dims'>(index)</div><div class='xr-var-dtype'>object</div><div class='xr-var-preview xr-preview'>2022-04-01 00:00:00</div><input id='attrs-809813f0-789a-42aa-bca4-fc706576abc9' class='xr-var-attrs-in' type='checkbox' disabled><label for='attrs-809813f0-789a-42aa-bca4-fc706576abc9' title='Show/Hide attributes'><svg class='icon xr-icon-file-text2'><use xlink:href='#icon-file-text2'></use></svg></label><input id='data-6a99f5fa-5387-4bea-ab6c-d1b956255896' class='xr-var-data-in' type='checkbox'><label for='data-6a99f5fa-5387-4bea-ab6c-d1b956255896' title='Show/Hide data repr'><svg class='icon xr-icon-database'><use xlink:href='#icon-database'></use></svg></label><div class='xr-var-attrs'><dl class='xr-attrs'></dl></div><div class='xr-var-data'><pre>array([cftime.DatetimeProlepticGregorian(2022, 4, 1, 0, 0, 0, 0, has_year_zero=True)],\n",
       "      dtype=object)</pre></div></li><li class='xr-var-item'><div class='xr-var-name'><span>timestr</span></div><div class='xr-var-dims'>(index)</div><div class='xr-var-dtype'>object</div><div class='xr-var-preview xr-preview'>&#x27;2022-04-01 00:00:00&#x27;</div><input id='attrs-5dfb857a-05cf-4398-80d1-bca5f267a4af' class='xr-var-attrs-in' type='checkbox' disabled><label for='attrs-5dfb857a-05cf-4398-80d1-bca5f267a4af' title='Show/Hide attributes'><svg class='icon xr-icon-file-text2'><use xlink:href='#icon-file-text2'></use></svg></label><input id='data-1c9bdd3f-3a09-4074-8f28-4751450bf6cb' class='xr-var-data-in' type='checkbox'><label for='data-1c9bdd3f-3a09-4074-8f28-4751450bf6cb' title='Show/Hide data repr'><svg class='icon xr-icon-database'><use xlink:href='#icon-database'></use></svg></label><div class='xr-var-attrs'><dl class='xr-attrs'></dl></div><div class='xr-var-data'><pre>array([&#x27;2022-04-01 00:00:00&#x27;], dtype=object)</pre></div></li><li class='xr-var-item'><div class='xr-var-name'><span>y</span></div><div class='xr-var-dims'>(index)</div><div class='xr-var-dtype'>float64</div><div class='xr-var-preview xr-preview'>0.04082</div><input id='attrs-4b8ae537-ea73-43c9-bad8-e25984077fb8' class='xr-var-attrs-in' type='checkbox' disabled><label for='attrs-4b8ae537-ea73-43c9-bad8-e25984077fb8' title='Show/Hide attributes'><svg class='icon xr-icon-file-text2'><use xlink:href='#icon-file-text2'></use></svg></label><input id='data-63d602d2-4b14-481b-8acc-68a7fa57a4cb' class='xr-var-data-in' type='checkbox'><label for='data-63d602d2-4b14-481b-8acc-68a7fa57a4cb' title='Show/Hide data repr'><svg class='icon xr-icon-database'><use xlink:href='#icon-database'></use></svg></label><div class='xr-var-attrs'><dl class='xr-attrs'></dl></div><div class='xr-var-data'><pre>array([0.04081633])</pre></div></li><li class='xr-var-item'><div class='xr-var-name'><span>x</span></div><div class='xr-var-dims'>(index)</div><div class='xr-var-dtype'>float64</div><div class='xr-var-preview xr-preview'>0.04082</div><input id='attrs-d3d51695-dbb3-4f28-aa8d-7eecfe559509' class='xr-var-attrs-in' type='checkbox' disabled><label for='attrs-d3d51695-dbb3-4f28-aa8d-7eecfe559509' title='Show/Hide attributes'><svg class='icon xr-icon-file-text2'><use xlink:href='#icon-file-text2'></use></svg></label><input id='data-3a5d4aff-e3ba-4d89-b45a-9175c0bc2c20' class='xr-var-data-in' type='checkbox'><label for='data-3a5d4aff-e3ba-4d89-b45a-9175c0bc2c20' title='Show/Hide data repr'><svg class='icon xr-icon-database'><use xlink:href='#icon-database'></use></svg></label><div class='xr-var-attrs'><dl class='xr-attrs'></dl></div><div class='xr-var-data'><pre>array([0.04081633])</pre></div></li></ul></div></li><li class='xr-section-item'><input id='section-e69d12b1-088b-4adc-99e9-130fe0e0423e' class='xr-section-summary-in' type='checkbox' disabled ><label for='section-e69d12b1-088b-4adc-99e9-130fe0e0423e' class='xr-section-summary'  title='Expand/collapse section'>Attributes: <span>(0)</span></label><div class='xr-section-inline-details'></div><div class='xr-section-details'><dl class='xr-attrs'></dl></div></li></ul></div></div>"
      ],
      "text/plain": [
       "<xarray.Dataset>\n",
       "Dimensions:          (index: 1)\n",
       "Coordinates:\n",
       "  * index            (index) int64 0\n",
       "Data variables:\n",
       "    frame            (index) int64 0\n",
       "    idx              (index) int64 1\n",
       "    hdim_1           (index) float64 25.0\n",
       "    hdim_2           (index) float64 25.0\n",
       "    num              (index) int64 293\n",
       "    threshold_value  (index) float64 0.5\n",
       "    feature          (index) int64 1\n",
       "    time             (index) object 2022-04-01 00:00:00\n",
       "    timestr          (index) object '2022-04-01 00:00:00'\n",
       "    y                (index) float64 0.04082\n",
       "    x                (index) float64 0.04082"
      ]
     },
     "execution_count": 30,
     "metadata": {},
     "output_type": "execute_result"
    }
   ],
   "source": [
    "features_eroded = tobac.themes.tobac_v1.feature_detection_multithreshold(input_data, dxy, threshold, n_erosion_threshold=2)\n",
    "features_eroded"
   ]
  },
  {
   "cell_type": "markdown",
   "id": "efda10e4",
   "metadata": {},
   "source": [
    "## n_min_threshold\n",
    "\n",
    "With *n_min_threshold* parameter we can exclude smaller features by setting a minimum of datapoints that have to exceed the threshold for one feature. If we again detect the single feature of our gaussian data and check its *num* value, we can see that it contains 332 pixels:"
   ]
  },
  {
   "cell_type": "code",
   "execution_count": 318,
   "id": "1ca6e991",
   "metadata": {},
   "outputs": [],
   "source": [
    "%%capture\n",
    "\n",
    "threshold = 0.5\n",
    "features = tobac.themes.tobac_v1.feature_detection_multithreshold(input_data, dxy, threshold)"
   ]
  },
  {
   "cell_type": "code",
   "execution_count": 319,
   "id": "59607803",
   "metadata": {},
   "outputs": [
    {
     "data": {
      "text/plain": [
       "array([332])"
      ]
     },
     "execution_count": 319,
     "metadata": {},
     "output_type": "execute_result"
    }
   ],
   "source": [
    "features['num'].data"
   ]
  },
  {
   "cell_type": "markdown",
   "id": "68e3b85d",
   "metadata": {},
   "source": [
    "If we now use an *n_min-threshold* above or equal this value, we will detect no features:"
   ]
  },
  {
   "cell_type": "code",
   "execution_count": 320,
   "id": "95284244",
   "metadata": {},
   "outputs": [],
   "source": [
    "features = tobac.themes.tobac_v1.feature_detection_multithreshold(input_data, dxy, threshold, n_min_threshold=332)"
   ]
  },
  {
   "cell_type": "code",
   "execution_count": 321,
   "id": "caeea658",
   "metadata": {},
   "outputs": [
    {
     "name": "stdout",
     "output_type": "stream",
     "text": [
      "None\n"
     ]
    }
   ],
   "source": [
    "print(features)"
   ]
  },
  {
   "cell_type": "markdown",
   "id": "7bf8c298",
   "metadata": {},
   "source": [
    "## min_distance\n",
    "\n",
    "With *min_distance* we can set a minimal distance of our features. All features closer than this distance to an allready detected feature will be neclected. To demonstrate this the 3 blobs can be used again. The data is imported and the features are detected as before:"
   ]
  },
  {
   "cell_type": "code",
   "execution_count": 336,
   "id": "b2a7de25",
   "metadata": {},
   "outputs": [],
   "source": [
    "%%capture\n",
    "\n",
    "data = tobac.testing.make_sample_data_2D_3blobs()\n",
    "\n",
    "thresholds = [9]\n",
    "dxy, dt = tobac.utils.get_spacings(data)\n",
    "features = tobac.themes.tobac_v1.feature_detection_multithreshold(data, dxy, thresholds, min_distance=0)"
   ]
  },
  {
   "cell_type": "markdown",
   "id": "e6fd198e",
   "metadata": {},
   "source": [
    "A quick look at frame 50 tells us the found features and their indices:"
   ]
  },
  {
   "cell_type": "code",
   "execution_count": 337,
   "id": "f7db8149",
   "metadata": {},
   "outputs": [
    {
     "data": {
      "text/plain": [
       "array([60, 61, 62])"
      ]
     },
     "execution_count": 337,
     "metadata": {},
     "output_type": "execute_result"
    }
   ],
   "source": [
    "n = 50\n",
    "mask = features['frame'] == n\n",
    "features_frame = features.where(mask).dropna('index').to_dataframe()\n",
    "features_frame.index.values"
   ]
  },
  {
   "cell_type": "markdown",
   "id": "6a24c009",
   "metadata": {},
   "source": [
    "Notice that *to_dataframe()* was used to convert the Dataset to a pandas dataframe, which is required to use the *calculate_distance* function of the analysis module:"
   ]
  },
  {
   "cell_type": "code",
   "execution_count": 338,
   "id": "b15da9d2",
   "metadata": {},
   "outputs": [
    {
     "data": {
      "text/plain": [
       "77307.67873610597"
      ]
     },
     "execution_count": 338,
     "metadata": {},
     "output_type": "execute_result"
    }
   ],
   "source": [
    "tobac.analysis.analysis.calculate_distance(features_time.loc[60], features_time.loc[61], method_distance='xy')"
   ]
  },
  {
   "cell_type": "code",
   "execution_count": 339,
   "id": "4afc4eb3",
   "metadata": {},
   "outputs": [
    {
     "data": {
      "text/plain": [
       "64289.48419281164"
      ]
     },
     "execution_count": 339,
     "metadata": {},
     "output_type": "execute_result"
    }
   ],
   "source": [
    "tobac.analysis.analysis.calculate_distance(features_time.loc[62], features_time.loc[61], method_distance='xy')"
   ]
  },
  {
   "cell_type": "code",
   "execution_count": 340,
   "id": "9a5ff68a",
   "metadata": {},
   "outputs": [
    {
     "data": {
      "text/plain": [
       "101607.57596570993"
      ]
     },
     "execution_count": 340,
     "metadata": {},
     "output_type": "execute_result"
    }
   ],
   "source": [
    "tobac.analysis.analysis.calculate_distance(features_time.loc[62], features_time.loc[60], method_distance='xy')"
   ]
  },
  {
   "cell_type": "markdown",
   "id": "3ee0e593",
   "metadata": {},
   "source": [
    "No we know how far our features are apart. With this knowledge we can set reasonable values for *min_distance*. For example, if we only wanna detect one feature, we can set"
   ]
  },
  {
   "cell_type": "code",
   "execution_count": 341,
   "id": "50dd4ad8",
   "metadata": {},
   "outputs": [],
   "source": [
    "min_distance=101608"
   ]
  },
  {
   "cell_type": "markdown",
   "id": "15c4336f",
   "metadata": {},
   "source": [
    "and perform the feature detection as usual:"
   ]
  },
  {
   "cell_type": "code",
   "execution_count": 328,
   "id": "ffc101e8",
   "metadata": {},
   "outputs": [],
   "source": [
    "%%capture\n",
    "\n",
    "data = tobac.testing.make_sample_data_2D_3blobs()\n",
    "\n",
    "thresholds = [10]\n",
    "dxy, dt = tobac.utils.get_spacings(data)\n",
    "features = tobac.themes.tobac_v1.feature_detection_multithreshold(data, dxy, thresholds, min_distance = min_distance)\n",
    "\n",
    "n = 50\n",
    "mask = features['frame'] == n"
   ]
  },
  {
   "cell_type": "markdown",
   "id": "3e0d7a87",
   "metadata": {},
   "source": [
    "Plotting the result shows us that we have only detected feature 1, like we expected."
   ]
  },
  {
   "cell_type": "code",
   "execution_count": 330,
   "id": "1d1d0131",
   "metadata": {},
   "outputs": [
    {
     "data": {
      "image/png": "[encoded data removed]",
      "text/plain": [
       "<Figure size 720x720 with 1 Axes>"
      ]
     },
     "metadata": {
      "needs_background": "light"
     },
     "output_type": "display_data"
    }
   ],
   "source": [
    "fig, ax1 = plt.subplots(ncols = 1, figsize = (10, 10))\n",
    "ax1.imshow(data.data[50], cmap = 'Greys')\n",
    "\n",
    "im1 = ax1.scatter(features.where(mask)['hdim_2'], features.where(mask)['hdim_1'], color = 'red')"
   ]
  },
  {
   "cell_type": "markdown",
   "id": "0bf4f5cb",
   "metadata": {},
   "source": [
    "## wavelength_filtering"
   ]
  },
  {
   "cell_type": "markdown",
   "id": "7d901656",
   "metadata": {},
   "source": [
    "| **Parameter** | done |\n",
    "| threshold     | yes  |\n",
    "    min_num=0\n",
    "    target=\"maximum\"\n",
    "    position_threshold=\"center\",\n",
    "    sigma_threshold=0.5\n",
    "    n_erosion_threshold=0\n",
    "    n_min_threshold=0\n",
    "    min_distance=0\n",
    "    feature_number_start=1\n",
    "    wavelength_filtering=None"
   ]
  },
  {
   "cell_type": "code",
   "execution_count": null,
   "id": "1889753b",
   "metadata": {},
   "outputs": [],
   "source": [
    "axes"
   ]
  },
  {
   "cell_type": "code",
   "execution_count": null,
   "id": "2125e6e9",
   "metadata": {},
   "outputs": [],
   "source": []
  }
 ],
 "metadata": {
  "kernelspec": {
   "display_name": "Python 3 (ipykernel)",
   "language": "python",
   "name": "python3"
  },
  "language_info": {
   "codemirror_mode": {
    "name": "ipython",
    "version": 3
   },
   "file_extension": ".py",
   "mimetype": "text/x-python",
   "name": "python",
   "nbconvert_exporter": "python",
   "pygments_lexer": "ipython3",
   "version": "3.7.12"
  }
 },
 "nbformat": 4,
 "nbformat_minor": 5
}
